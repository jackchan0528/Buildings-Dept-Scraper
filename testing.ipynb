{
 "cells": [
  {
   "cell_type": "code",
   "execution_count": 1,
   "metadata": {},
   "outputs": [],
   "source": [
    "# Python program to demonstrate\n",
    "# Webdriver For Firefox\n",
    "import time\n",
    "import pandas as pd\n",
    "from selenium import webdriver\n",
    "from selenium.webdriver.common.by import By\n",
    "from selenium.webdriver.support.ui import WebDriverWait\n",
    "from selenium.webdriver.support import expected_conditions as EC\n",
    "\n",
    "driver = webdriver.Firefox()\n",
    "driver.get(\n",
    "    \"https://www.bd.gov.hk/tc/resources/online-tools/orders-search/ordersearch.html\"\n",
    ")\n",
    "\n",
    "\n",
    "def clickButtonByTitle(title):\n",
    "    # Finding the button by its title attribute\n",
    "    button = WebDriverWait(driver, 10).until(\n",
    "        EC.element_to_be_clickable((By.CSS_SELECTOR, f\"[title={title}]\"))\n",
    "    )\n",
    "\n",
    "    # Clicking the button\n",
    "    button.click()\n",
    "\n",
    "\n",
    "def clickButtonByID(id):\n",
    "    # Finding the button by its title attribute\n",
    "    button = WebDriverWait(driver, 10).until(EC.element_to_be_clickable((By.ID, id)))\n",
    "\n",
    "    # Clicking the button\n",
    "    button.click()\n",
    "\n",
    "\n",
    "def enterTextBoxByID(id, text):\n",
    "    # Finding the textbox by its ID\n",
    "    textbox = WebDriverWait(driver, 10).until(\n",
    "        EC.presence_of_element_located((By.ID, id))\n",
    "    )\n",
    "\n",
    "    # Clearing the existing text (if any)\n",
    "    textbox.clear()\n",
    "\n",
    "    # Typing text into the textbox\n",
    "    textbox.send_keys(text)\n",
    "\n",
    "\n",
    "clickButtonByTitle(\"接受\")\n",
    "clickButtonByTitle(\"街道名稱\")\n",
    "enterTextBoxByID(\"street_name\", \"Tai Po\")\n",
    "clickButtonByID(\"searchStreetAddress\")\n"
   ]
  },
  {
   "cell_type": "code",
   "execution_count": 2,
   "metadata": {},
   "outputs": [],
   "source": [
    "# Finding all the buttons\n",
    "table = driver.find_elements(By.ID, \"searchStreetAddressList\")"
   ]
  },
  {
   "cell_type": "code",
   "execution_count": 4,
   "metadata": {},
   "outputs": [
    {
     "ename": "AttributeError",
     "evalue": "'WebDriver' object has no attribute 'find_element_by_id'",
     "output_type": "error",
     "traceback": [
      "\u001b[1;31m---------------------------------------------------------------------------\u001b[0m",
      "\u001b[1;31mAttributeError\u001b[0m                            Traceback (most recent call last)",
      "Cell \u001b[1;32mIn[4], line 2\u001b[0m\n\u001b[0;32m      1\u001b[0m \u001b[39m# Find the table element by its ID\u001b[39;00m\n\u001b[1;32m----> 2\u001b[0m table_element \u001b[39m=\u001b[39m driver\u001b[39m.\u001b[39;49mfind_element_by_id(\u001b[39m'\u001b[39m\u001b[39msearchStreetAddressList\u001b[39m\u001b[39m'\u001b[39m)\n\u001b[0;32m      4\u001b[0m \u001b[39m# Get all the elements within the table\u001b[39;00m\n\u001b[0;32m      5\u001b[0m table_rows \u001b[39m=\u001b[39m table_element\u001b[39m.\u001b[39mfind_elements_by_tag_name(\u001b[39m'\u001b[39m\u001b[39mtr\u001b[39m\u001b[39m'\u001b[39m)\n",
      "\u001b[1;31mAttributeError\u001b[0m: 'WebDriver' object has no attribute 'find_element_by_id'"
     ]
    }
   ],
   "source": [
    "# Find the table element by its ID\n",
    "table_element = driver.find_element_by_id('searchStreetAddressList')\n",
    "\n",
    "# Get all the elements within the table\n",
    "table_rows = table_element.find_elements_by_tag_name('tr')\n",
    "\n",
    "# Iterate over the rows and print the text content of each cell\n",
    "for row in table_rows:\n",
    "    cells = row.find_elements_by_tag_name('td')\n",
    "    row_data = [cell.text for cell in cells]\n",
    "    print(row_data)"
   ]
  },
  {
   "cell_type": "code",
   "execution_count": 7,
   "metadata": {},
   "outputs": [],
   "source": [
    "string_list = []"
   ]
  },
  {
   "cell_type": "code",
   "execution_count": 5,
   "metadata": {},
   "outputs": [],
   "source": [
    "def scrapeTable(tableID, tr, td):\n",
    "    # Find the table element by its ID\n",
    "    table_element = driver.find_element(By.ID, tableID)\n",
    "\n",
    "    # Get all the elements within the table\n",
    "    table_rows = table_element.find_elements(By.TAG_NAME, 'tr')\n",
    "\n",
    "    # Iterate over the rows and print the text content of each cell\n",
    "    for row in table_rows:\n",
    "        cells = row.find_elements(By.TAG_NAME, 'td')\n",
    "        row_data = [cell.text for cell in cells]\n",
    "        if len(row_data) > 0:\n",
    "            string_list.append(row_data[0])\n",
    "    \n",
    "    return string_list\n"
   ]
  },
  {
   "cell_type": "code",
   "execution_count": 8,
   "metadata": {},
   "outputs": [],
   "source": [
    "string_list = scrapeTable('searchStreetAddressList', 'tr', 'td')"
   ]
  },
  {
   "cell_type": "code",
   "execution_count": 9,
   "metadata": {},
   "outputs": [],
   "source": [
    "# Split each string into a list of values using '\\n' as the separator\n",
    "split_list = [item.split('\\n') for item in string_list]\n",
    "\n",
    "# Create a DataFrame from the split list\n",
    "df = pd.DataFrame(split_list)\n",
    "\n",
    "# Drop the 1st column with '詳細'\n",
    "df.drop(columns=df.columns[0], axis=1, inplace=True)\n",
    "\n",
    "# Rename the column headers\n",
    "df.columns = ['English Address', 'Chinese Address']"
   ]
  },
  {
   "cell_type": "code",
   "execution_count": 10,
   "metadata": {},
   "outputs": [
    {
     "data": {
      "text/html": [
       "<div>\n",
       "<style scoped>\n",
       "    .dataframe tbody tr th:only-of-type {\n",
       "        vertical-align: middle;\n",
       "    }\n",
       "\n",
       "    .dataframe tbody tr th {\n",
       "        vertical-align: top;\n",
       "    }\n",
       "\n",
       "    .dataframe thead th {\n",
       "        text-align: right;\n",
       "    }\n",
       "</style>\n",
       "<table border=\"1\" class=\"dataframe\">\n",
       "  <thead>\n",
       "    <tr style=\"text-align: right;\">\n",
       "      <th></th>\n",
       "      <th>English Address</th>\n",
       "      <th>Chinese Address</th>\n",
       "    </tr>\n",
       "  </thead>\n",
       "  <tbody>\n",
       "    <tr>\n",
       "      <th>0</th>\n",
       "      <td>6 - 8 TAI PO RD (Tower Block)</td>\n",
       "      <td>大埔道6 - 8號 (大廈)</td>\n",
       "    </tr>\n",
       "    <tr>\n",
       "      <th>1</th>\n",
       "      <td>TAI PO HOUSE, 13 - 15 TAI PO RD (Tower Block)</td>\n",
       "      <td>大埔道13 - 15號 大埔樓 (大廈)</td>\n",
       "    </tr>\n",
       "    <tr>\n",
       "      <th>2</th>\n",
       "      <td>WAH TAO BUILDING, 14 - 16 TAI PO RD (Tower Block)</td>\n",
       "      <td>大埔道14 - 16號 華都大廈 (大廈)</td>\n",
       "    </tr>\n",
       "    <tr>\n",
       "      <th>3</th>\n",
       "      <td>SAM YING BUILDING, 19 - 23 TAI PO RD (Podium B...</td>\n",
       "      <td>大埔道19 - 23號 三英大廈 (基座平台)</td>\n",
       "    </tr>\n",
       "    <tr>\n",
       "      <th>4</th>\n",
       "      <td>SAM YING BUILDING, 19 TAI PO RD (Tower Block)</td>\n",
       "      <td>大埔道19號 三英大廈 (大廈)</td>\n",
       "    </tr>\n",
       "    <tr>\n",
       "      <th>5</th>\n",
       "      <td>FAIRVIEW GARDEN, 27 TAI PO RD (Tower Block)</td>\n",
       "      <td>大埔道27號 景翠苑 (大廈)</td>\n",
       "    </tr>\n",
       "    <tr>\n",
       "      <th>6</th>\n",
       "      <td>TAK SING HOUSE, 29 TAI PO RD (Tower Block)</td>\n",
       "      <td>大埔道29號 德勝樓 (大廈)</td>\n",
       "    </tr>\n",
       "    <tr>\n",
       "      <th>7</th>\n",
       "      <td>CHI FAI COURT, 31 - 35 TAI PO RD (Tower Block)</td>\n",
       "      <td>大埔道31 - 35號 置輝閣 (大廈)</td>\n",
       "    </tr>\n",
       "    <tr>\n",
       "      <th>8</th>\n",
       "      <td>SHING TO BUILDING, 32 - 36 TAI PO RD (Tower Bl...</td>\n",
       "      <td>大埔道32 - 36號 成都大廈 (大廈)</td>\n",
       "    </tr>\n",
       "    <tr>\n",
       "      <th>9</th>\n",
       "      <td>37 - 39 TAI PO RD (Tower Block)</td>\n",
       "      <td>大埔道37 - 39號 嘉都大廈 (大廈)</td>\n",
       "    </tr>\n",
       "    <tr>\n",
       "      <th>10</th>\n",
       "      <td>HONG KONG CHINESE TEXTILE MILLS ASSOCIATION BU...</td>\n",
       "      <td>大埔道38 - 40號 香港華商織造廠總會大廈 (大廈)</td>\n",
       "    </tr>\n",
       "    <tr>\n",
       "      <th>11</th>\n",
       "      <td>FUNG NING BUILDING, 42 - 44 TAI PO RD (Tower B...</td>\n",
       "      <td>大埔道42 - 44號 (大廈)</td>\n",
       "    </tr>\n",
       "    <tr>\n",
       "      <th>12</th>\n",
       "      <td>DIAMOND BUILDING, 47 - 49 TAI PO RD (Tower Block)</td>\n",
       "      <td>大埔道47 - 49號 (大廈)</td>\n",
       "    </tr>\n",
       "    <tr>\n",
       "      <th>13</th>\n",
       "      <td>HIP FOOK BUILDING, 63 - 71 TAI PO RD (Tower Bl...</td>\n",
       "      <td>大埔道63 - 71號 協福大廈 (大廈)</td>\n",
       "    </tr>\n",
       "    <tr>\n",
       "      <th>14</th>\n",
       "      <td>HOI CHEUNG BUILDING, 72 - 74 TAI PO RD (Tower ...</td>\n",
       "      <td>大埔道72 - 74號 海祥大廈 (大廈)</td>\n",
       "    </tr>\n",
       "    <tr>\n",
       "      <th>15</th>\n",
       "      <td>WEI SUN BUILDING, 75 TAI PO RD (Tower Block)</td>\n",
       "      <td>大埔道75號 威信大廈 (大廈)</td>\n",
       "    </tr>\n",
       "    <tr>\n",
       "      <th>16</th>\n",
       "      <td>WAH KIU MANSION, 76 - 84 TAI PO RD (Tower Block)</td>\n",
       "      <td>大埔道76 - 84號 華僑大廈 (大廈)</td>\n",
       "    </tr>\n",
       "    <tr>\n",
       "      <th>17</th>\n",
       "      <td>77 TAI PO RD (Tower Block)</td>\n",
       "      <td>大埔道77號 (大廈)</td>\n",
       "    </tr>\n",
       "    <tr>\n",
       "      <th>18</th>\n",
       "      <td>MAN ON BUILDING, 79 - 85A TAI PO RD (Tower Block)</td>\n",
       "      <td>大埔道79 - 85A號 民安大廈 (大廈)</td>\n",
       "    </tr>\n",
       "    <tr>\n",
       "      <th>19</th>\n",
       "      <td>WAH YAN MANSION, 92 - 102 TAI PO RD (Tower Block)</td>\n",
       "      <td>大埔道92 - 102號 華仁大廈 (大廈)</td>\n",
       "    </tr>\n",
       "  </tbody>\n",
       "</table>\n",
       "</div>"
      ],
      "text/plain": [
       "                                      English Address   \n",
       "0                       6 - 8 TAI PO RD (Tower Block)  \\\n",
       "1       TAI PO HOUSE, 13 - 15 TAI PO RD (Tower Block)   \n",
       "2   WAH TAO BUILDING, 14 - 16 TAI PO RD (Tower Block)   \n",
       "3   SAM YING BUILDING, 19 - 23 TAI PO RD (Podium B...   \n",
       "4       SAM YING BUILDING, 19 TAI PO RD (Tower Block)   \n",
       "5         FAIRVIEW GARDEN, 27 TAI PO RD (Tower Block)   \n",
       "6          TAK SING HOUSE, 29 TAI PO RD (Tower Block)   \n",
       "7      CHI FAI COURT, 31 - 35 TAI PO RD (Tower Block)   \n",
       "8   SHING TO BUILDING, 32 - 36 TAI PO RD (Tower Bl...   \n",
       "9                     37 - 39 TAI PO RD (Tower Block)   \n",
       "10  HONG KONG CHINESE TEXTILE MILLS ASSOCIATION BU...   \n",
       "11  FUNG NING BUILDING, 42 - 44 TAI PO RD (Tower B...   \n",
       "12  DIAMOND BUILDING, 47 - 49 TAI PO RD (Tower Block)   \n",
       "13  HIP FOOK BUILDING, 63 - 71 TAI PO RD (Tower Bl...   \n",
       "14  HOI CHEUNG BUILDING, 72 - 74 TAI PO RD (Tower ...   \n",
       "15       WEI SUN BUILDING, 75 TAI PO RD (Tower Block)   \n",
       "16   WAH KIU MANSION, 76 - 84 TAI PO RD (Tower Block)   \n",
       "17                         77 TAI PO RD (Tower Block)   \n",
       "18  MAN ON BUILDING, 79 - 85A TAI PO RD (Tower Block)   \n",
       "19  WAH YAN MANSION, 92 - 102 TAI PO RD (Tower Block)   \n",
       "\n",
       "                 Chinese Address  \n",
       "0                 大埔道6 - 8號 (大廈)  \n",
       "1           大埔道13 - 15號 大埔樓 (大廈)  \n",
       "2          大埔道14 - 16號 華都大廈 (大廈)  \n",
       "3        大埔道19 - 23號 三英大廈 (基座平台)  \n",
       "4               大埔道19號 三英大廈 (大廈)  \n",
       "5                大埔道27號 景翠苑 (大廈)  \n",
       "6                大埔道29號 德勝樓 (大廈)  \n",
       "7           大埔道31 - 35號 置輝閣 (大廈)  \n",
       "8          大埔道32 - 36號 成都大廈 (大廈)  \n",
       "9          大埔道37 - 39號 嘉都大廈 (大廈)  \n",
       "10  大埔道38 - 40號 香港華商織造廠總會大廈 (大廈)  \n",
       "11              大埔道42 - 44號 (大廈)  \n",
       "12              大埔道47 - 49號 (大廈)  \n",
       "13         大埔道63 - 71號 協福大廈 (大廈)  \n",
       "14         大埔道72 - 74號 海祥大廈 (大廈)  \n",
       "15              大埔道75號 威信大廈 (大廈)  \n",
       "16         大埔道76 - 84號 華僑大廈 (大廈)  \n",
       "17                   大埔道77號 (大廈)  \n",
       "18        大埔道79 - 85A號 民安大廈 (大廈)  \n",
       "19        大埔道92 - 102號 華仁大廈 (大廈)  "
      ]
     },
     "execution_count": 10,
     "metadata": {},
     "output_type": "execute_result"
    }
   ],
   "source": [
    "df"
   ]
  },
  {
   "cell_type": "code",
   "execution_count": 11,
   "metadata": {},
   "outputs": [
    {
     "data": {
      "text/plain": [
       "'6 - 8 TAI PO RD (Tower Block)'"
      ]
     },
     "execution_count": 11,
     "metadata": {},
     "output_type": "execute_result"
    }
   ],
   "source": [
    "englishAddress = df['English Address'][0]\n",
    "englishAddress"
   ]
  },
  {
   "cell_type": "code",
   "execution_count": 12,
   "metadata": {},
   "outputs": [],
   "source": [
    "# Find the button element by its CSS selector\n",
    "button = driver.find_element(By.CSS_SELECTOR, f'a.btn.addressSearch[data-addressen=\"{englishAddress}\"]')\n",
    "\n",
    "# Click the button\n",
    "button.click()"
   ]
  },
  {
   "cell_type": "code",
   "execution_count": 13,
   "metadata": {},
   "outputs": [],
   "source": [
    "# Find the toggle button element by its ID\n",
    "toggle_arrow_button = driver.find_element(By.ID, 'individualOutstanding-s24')\n",
    "\n",
    "# Click the toggle button\n",
    "toggle_arrow_button.click()"
   ]
  },
  {
   "cell_type": "code",
   "execution_count": 14,
   "metadata": {},
   "outputs": [],
   "source": [
    "# Find the <a> element by its class attribute\n",
    "toggle_plus_button = driver.find_element(By.CLASS_NAME, 'expandBtn.collapsed')\n",
    "\n",
    "# Perform actions on the found element (e.g., click the link)\n",
    "toggle_plus_button.click()"
   ]
  },
  {
   "cell_type": "code",
   "execution_count": 15,
   "metadata": {},
   "outputs": [
    {
     "name": "stdout",
     "output_type": "stream",
     "text": [
      "命令編號\n",
      "UDR00546/K/21/AEF/TA(5OJ123)\n",
      "未獲遵從\n",
      "地址\n",
      "10/F FLAT B 6/8 TAI PO RD\n",
      "通知日期\n",
      "2022年12月30日\n",
      "命令類別\n",
      "第24條命令（只涉及渠務）\n",
      "屋宇署檔案編號\n",
      "EB/4619/70/U04N(SDI-AEF)\n"
     ]
    }
   ],
   "source": [
    "# Find the table's div element by its ID\n",
    "table_div = driver.find_element(By.ID, 'individualOutstanding-s24-content')\n",
    "\n",
    "# Get all the strings within the div element\n",
    "table_strings = table_div.text.splitlines()\n",
    "\n",
    "# Print the strings\n",
    "for string in table_strings:\n",
    "    print(string)"
   ]
  },
  {
   "cell_type": "code",
   "execution_count": 103,
   "metadata": {},
   "outputs": [
    {
     "data": {
      "text/plain": [
       "'命令編號\\nUDR00546/K/21/AEF/TA(5OJ123)\\n未獲遵從\\n地址\\n10/F FLAT B 6/8 TAI PO RD\\n通知日期\\n2022年12月30日\\n命令類別\\n第24條命令（只涉及渠務）\\n屋宇署檔案編號\\nEB/4619/70/U04N(SDI-AEF)'"
      ]
     },
     "execution_count": 103,
     "metadata": {},
     "output_type": "execute_result"
    }
   ],
   "source": [
    "table_div.text"
   ]
  },
  {
   "cell_type": "code",
   "execution_count": 16,
   "metadata": {},
   "outputs": [],
   "source": [
    "df_target = pd.DataFrame()"
   ]
  },
  {
   "cell_type": "code",
   "execution_count": 17,
   "metadata": {},
   "outputs": [],
   "source": [
    "# Initialize an empty DataFrame with column names\n",
    "columns = [\"命令編號\", \"地址\", \"通知日期\", \"命令類別\", \"屋宇署檔案編號\"]\n",
    "df_target = pd.DataFrame(columns=columns)"
   ]
  },
  {
   "cell_type": "code",
   "execution_count": 18,
   "metadata": {},
   "outputs": [
    {
     "data": {
      "text/plain": [
       "['命令編號',\n",
       " 'UDR00546/K/21/AEF/TA(5OJ123)',\n",
       " '未獲遵從',\n",
       " '地址',\n",
       " '10/F FLAT B 6/8 TAI PO RD',\n",
       " '通知日期',\n",
       " '2022年12月30日',\n",
       " '命令類別',\n",
       " '第24條命令（只涉及渠務）',\n",
       " '屋宇署檔案編號',\n",
       " 'EB/4619/70/U04N(SDI-AEF)']"
      ]
     },
     "execution_count": 18,
     "metadata": {},
     "output_type": "execute_result"
    }
   ],
   "source": [
    "table_strings"
   ]
  },
  {
   "cell_type": "code",
   "execution_count": 19,
   "metadata": {},
   "outputs": [],
   "source": [
    "for i in range(len(table_strings)):\n",
    "    if table_strings[i] == '命令編號':\n",
    "        val1 = table_strings[i+1]\n",
    "    elif table_strings[i] == '地址':\n",
    "        val2 = table_strings[i+1]\n",
    "    elif table_strings[i] == '通知日期':\n",
    "        val3 = table_strings[i+1]\n",
    "    elif table_strings[i] == '命令類別':\n",
    "        val4 = table_strings[i+1]\n",
    "    elif table_strings[i] == '屋宇署檔案編號':\n",
    "        val5 = table_strings[i+1]"
   ]
  },
  {
   "cell_type": "code",
   "execution_count": 20,
   "metadata": {},
   "outputs": [],
   "source": [
    "# Append records to the DataFrame using append method\n",
    "record = {\"命令編號\": f\"{val1}\", \"地址\": f\"{val2}\", \"通知日期\": f\"{val3}\", \"命令類別\": f\"{val4}\", \"屋宇署檔案編號\": f\"{val5}\"}\n",
    "df_target.loc[len(df_target)] = record"
   ]
  },
  {
   "cell_type": "code",
   "execution_count": 21,
   "metadata": {},
   "outputs": [
    {
     "data": {
      "text/html": [
       "<div>\n",
       "<style scoped>\n",
       "    .dataframe tbody tr th:only-of-type {\n",
       "        vertical-align: middle;\n",
       "    }\n",
       "\n",
       "    .dataframe tbody tr th {\n",
       "        vertical-align: top;\n",
       "    }\n",
       "\n",
       "    .dataframe thead th {\n",
       "        text-align: right;\n",
       "    }\n",
       "</style>\n",
       "<table border=\"1\" class=\"dataframe\">\n",
       "  <thead>\n",
       "    <tr style=\"text-align: right;\">\n",
       "      <th></th>\n",
       "      <th>命令編號</th>\n",
       "      <th>地址</th>\n",
       "      <th>通知日期</th>\n",
       "      <th>命令類別</th>\n",
       "      <th>屋宇署檔案編號</th>\n",
       "    </tr>\n",
       "  </thead>\n",
       "  <tbody>\n",
       "    <tr>\n",
       "      <th>0</th>\n",
       "      <td>UDR00546/K/21/AEF/TA(5OJ123)</td>\n",
       "      <td>10/F FLAT B 6/8 TAI PO RD</td>\n",
       "      <td>2022年12月30日</td>\n",
       "      <td>第24條命令（只涉及渠務）</td>\n",
       "      <td>EB/4619/70/U04N(SDI-AEF)</td>\n",
       "    </tr>\n",
       "  </tbody>\n",
       "</table>\n",
       "</div>"
      ],
      "text/plain": [
       "                           命令編號                         地址         通知日期   \n",
       "0  UDR00546/K/21/AEF/TA(5OJ123)  10/F FLAT B 6/8 TAI PO RD  2022年12月30日  \\\n",
       "\n",
       "            命令類別                   屋宇署檔案編號  \n",
       "0  第24條命令（只涉及渠務）  EB/4619/70/U04N(SDI-AEF)  "
      ]
     },
     "execution_count": 21,
     "metadata": {},
     "output_type": "execute_result"
    }
   ],
   "source": [
    "df_target"
   ]
  },
  {
   "cell_type": "code",
   "execution_count": null,
   "metadata": {},
   "outputs": [],
   "source": []
  }
 ],
 "metadata": {
  "kernelspec": {
   "display_name": "selenium",
   "language": "python",
   "name": "python3"
  },
  "language_info": {
   "codemirror_mode": {
    "name": "ipython",
    "version": 3
   },
   "file_extension": ".py",
   "mimetype": "text/x-python",
   "name": "python",
   "nbconvert_exporter": "python",
   "pygments_lexer": "ipython3",
   "version": "3.9.16"
  },
  "orig_nbformat": 4
 },
 "nbformat": 4,
 "nbformat_minor": 2
}
