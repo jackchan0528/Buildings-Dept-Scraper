{
 "cells": [
  {
   "cell_type": "code",
   "execution_count": 1,
   "metadata": {},
   "outputs": [
    {
     "name": "stdout",
     "output_type": "stream",
     "text": [
      "Requirement already satisfied: pandas in c:\\users\\user\\anaconda3\\envs\\selenium\\lib\\site-packages (2.0.1)\n",
      "Requirement already satisfied: pytz>=2020.1 in c:\\users\\user\\anaconda3\\envs\\selenium\\lib\\site-packages (from pandas) (2023.3)\n",
      "Requirement already satisfied: numpy>=1.20.3 in c:\\users\\user\\anaconda3\\envs\\selenium\\lib\\site-packages (from pandas) (1.24.3)\n",
      "Requirement already satisfied: python-dateutil>=2.8.2 in c:\\users\\user\\anaconda3\\envs\\selenium\\lib\\site-packages (from pandas) (2.8.2)\n",
      "Requirement already satisfied: tzdata>=2022.1 in c:\\users\\user\\anaconda3\\envs\\selenium\\lib\\site-packages (from pandas) (2023.3)\n",
      "Requirement already satisfied: six>=1.5 in c:\\users\\user\\anaconda3\\envs\\selenium\\lib\\site-packages (from python-dateutil>=2.8.2->pandas) (1.16.0)\n"
     ]
    }
   ],
   "source": [
    "!pip install pandas"
   ]
  },
  {
   "cell_type": "code",
   "execution_count": 2,
   "metadata": {},
   "outputs": [
    {
     "name": "stdout",
     "output_type": "stream",
     "text": [
      "Collecting webdriver-manager\n",
      "  Downloading webdriver_manager-3.8.6-py2.py3-none-any.whl (27 kB)\n",
      "Requirement already satisfied: requests in c:\\users\\user\\appdata\\roaming\\python\\python39\\site-packages (from webdriver-manager) (2.28.1)\n",
      "Collecting python-dotenv\n",
      "  Using cached python_dotenv-1.0.0-py3-none-any.whl (19 kB)\n",
      "Collecting tqdm\n",
      "  Using cached tqdm-4.65.0-py3-none-any.whl (77 kB)\n",
      "Requirement already satisfied: packaging in c:\\users\\user\\anaconda3\\envs\\selenium\\lib\\site-packages (from webdriver-manager) (23.1)\n",
      "Requirement already satisfied: certifi>=2017.4.17 in c:\\users\\user\\anaconda3\\envs\\selenium\\lib\\site-packages (from requests->webdriver-manager) (2023.5.7)\n",
      "Requirement already satisfied: charset-normalizer<3,>=2 in c:\\users\\user\\appdata\\roaming\\python\\python39\\site-packages (from requests->webdriver-manager) (2.1.0)\n",
      "Requirement already satisfied: idna<4,>=2.5 in c:\\users\\user\\appdata\\roaming\\python\\python39\\site-packages (from requests->webdriver-manager) (3.3)\n",
      "Collecting urllib3<1.27,>=1.21.1\n",
      "  Downloading urllib3-1.26.15-py2.py3-none-any.whl (140 kB)\n",
      "     -------------------------------------- 140.9/140.9 kB 4.2 MB/s eta 0:00:00\n",
      "Requirement already satisfied: colorama in c:\\users\\user\\anaconda3\\envs\\selenium\\lib\\site-packages (from tqdm->webdriver-manager) (0.4.6)\n",
      "Installing collected packages: urllib3, tqdm, python-dotenv, webdriver-manager\n",
      "  Attempting uninstall: urllib3\n",
      "    Found existing installation: urllib3 2.0.2\n",
      "    Uninstalling urllib3-2.0.2:\n",
      "      Successfully uninstalled urllib3-2.0.2\n",
      "Successfully installed python-dotenv-1.0.0 tqdm-4.65.0 urllib3-1.26.15 webdriver-manager-3.8.6\n"
     ]
    },
    {
     "name": "stderr",
     "output_type": "stream",
     "text": [
      "ERROR: pip's dependency resolver does not currently take into account all the packages that are installed. This behaviour is the source of the following dependency conflicts.\n",
      "responses 0.23.1 requires types-PyYAML, which is not installed.\n",
      "pmdarima 1.8.5 requires scipy>=1.3.2, which is not installed.\n",
      "hyperopt 0.2.7 requires scipy, which is not installed.\n"
     ]
    }
   ],
   "source": [
    "!pip install webdriver-manager"
   ]
  },
  {
   "cell_type": "code",
   "execution_count": 7,
   "metadata": {},
   "outputs": [
    {
     "name": "stderr",
     "output_type": "stream",
     "text": [
      "C:\\Users\\User\\AppData\\Local\\Temp\\ipykernel_28476\\3871533204.py:3: DeprecationWarning: executable_path has been deprecated, please pass in a Service object\n",
      "  driver = webdriver.Chrome(ChromeDriverManager().install())\n"
     ]
    }
   ],
   "source": [
    "from selenium import webdriver\n",
    "from webdriver_manager.chrome import ChromeDriverManager\n",
    "driver = webdriver.Chrome(ChromeDriverManager().install())"
   ]
  },
  {
   "cell_type": "code",
   "execution_count": 9,
   "metadata": {},
   "outputs": [],
   "source": [
    "# Python program to demonstrate\n",
    "# Webdriver For Firefox\n",
    "import time\n",
    "import pandas as pd\n",
    "from selenium import webdriver\n",
    "from selenium.webdriver.common.by import By\n",
    "from selenium.webdriver.support.ui import WebDriverWait\n",
    "from selenium.webdriver.support import expected_conditions as EC\n",
    "\n",
    "driver = webdriver.Firefox()\n",
    "driver.get(\n",
    "    \"https://www.bd.gov.hk/tc/resources/online-tools/orders-search/ordersearch.html\"\n",
    ")\n",
    "\n",
    "\n",
    "def clickButtonByTitle(title):\n",
    "    # Finding the button by its title attribute\n",
    "    button = WebDriverWait(driver, 10).until(\n",
    "        EC.element_to_be_clickable((By.CSS_SELECTOR, f\"[title={title}]\"))\n",
    "    )\n",
    "\n",
    "    # Clicking the button\n",
    "    button.click()\n",
    "\n",
    "\n",
    "def clickButtonByID(id):\n",
    "    # Finding the button by its title attribute\n",
    "    button = WebDriverWait(driver, 10).until(EC.element_to_be_clickable((By.ID, id)))\n",
    "\n",
    "    # Clicking the button\n",
    "    button.click()\n",
    "\n",
    "\n",
    "def enterTextBoxByID(id, text):\n",
    "    # Finding the textbox by its ID\n",
    "    textbox = WebDriverWait(driver, 10).until(\n",
    "        EC.presence_of_element_located((By.ID, id))\n",
    "    )\n",
    "\n",
    "    # Clearing the existing text (if any)\n",
    "    textbox.clear()\n",
    "\n",
    "    # Typing text into the textbox\n",
    "    textbox.send_keys(text)\n",
    "\n",
    "\n",
    "clickButtonByTitle(\"接受\")\n",
    "clickButtonByTitle(\"街道名稱\")\n",
    "enterTextBoxByID(\"street_name\", \"Tai Po\")\n",
    "clickButtonByID(\"searchStreetAddress\")\n"
   ]
  },
  {
   "cell_type": "code",
   "execution_count": 41,
   "metadata": {},
   "outputs": [],
   "source": [
    "# # Finding all the buttons\n",
    "# table = driver.find_elements(By.ID, \"searchStreetAddressList\")"
   ]
  },
  {
   "cell_type": "code",
   "execution_count": 43,
   "metadata": {},
   "outputs": [],
   "source": [
    "# # Find the table element by its ID\n",
    "# table_element = driver.find_element_by_id('searchStreetAddressList')\n",
    "\n",
    "# # Get all the elements within the table\n",
    "# table_rows = table_element.find_elements_by_tag_name('tr')\n",
    "\n",
    "# # Iterate over the rows and print the text content of each cell\n",
    "# for row in table_rows:\n",
    "#     cells = row.find_elements_by_tag_name('td')\n",
    "#     row_data = [cell.text for cell in cells]\n",
    "#     print(row_data)"
   ]
  },
  {
   "cell_type": "code",
   "execution_count": 10,
   "metadata": {},
   "outputs": [],
   "source": [
    "string_list = []"
   ]
  },
  {
   "cell_type": "code",
   "execution_count": 11,
   "metadata": {},
   "outputs": [],
   "source": [
    "def scrapeTable(tableID, tr, td):\n",
    "    # Find the table element by its ID\n",
    "    table_element = driver.find_element(By.ID, tableID)\n",
    "\n",
    "    # Get all the elements within the table\n",
    "    table_rows = table_element.find_elements(By.TAG_NAME, 'tr')\n",
    "\n",
    "    # Iterate over the rows and print the text content of each cell\n",
    "    for row in table_rows:\n",
    "        cells = row.find_elements(By.TAG_NAME, 'td')\n",
    "        row_data = [cell.text for cell in cells]\n",
    "        if len(row_data) > 0:\n",
    "            string_list.append(row_data[0])\n",
    "    \n",
    "    return string_list\n"
   ]
  },
  {
   "cell_type": "code",
   "execution_count": 12,
   "metadata": {},
   "outputs": [],
   "source": [
    "string_list = scrapeTable('searchStreetAddressList', 'tr', 'td')"
   ]
  },
  {
   "cell_type": "code",
   "execution_count": 13,
   "metadata": {},
   "outputs": [
    {
     "data": {
      "text/plain": [
       "['詳細\\n6 - 8 TAI PO RD (Tower Block)\\n大埔道6 - 8號 (大廈)',\n",
       " '詳細\\nTAI PO HOUSE, 13 - 15 TAI PO RD (Tower Block)\\n大埔道13 - 15號 大埔樓 (大廈)',\n",
       " '詳細\\nWAH TAO BUILDING, 14 - 16 TAI PO RD (Tower Block)\\n大埔道14 - 16號 華都大廈 (大廈)',\n",
       " '詳細\\nSAM YING BUILDING, 19 - 23 TAI PO RD (Podium Block)\\n大埔道19 - 23號 三英大廈 (基座平台)',\n",
       " '詳細\\nSAM YING BUILDING, 19 TAI PO RD (Tower Block)\\n大埔道19號 三英大廈 (大廈)',\n",
       " '詳細\\nFAIRVIEW GARDEN, 27 TAI PO RD (Tower Block)\\n大埔道27號 景翠苑 (大廈)',\n",
       " '詳細\\nTAK SING HOUSE, 29 TAI PO RD (Tower Block)\\n大埔道29號 德勝樓 (大廈)',\n",
       " '詳細\\nCHI FAI COURT, 31 - 35 TAI PO RD (Tower Block)\\n大埔道31 - 35號 置輝閣 (大廈)',\n",
       " '詳細\\nSHING TO BUILDING, 32 - 36 TAI PO RD (Tower Block)\\n大埔道32 - 36號 成都大廈 (大廈)',\n",
       " '詳細\\n37 - 39 TAI PO RD (Tower Block)\\n大埔道37 - 39號 嘉都大廈 (大廈)',\n",
       " '詳細\\nHONG KONG CHINESE TEXTILE MILLS ASSOCIATION BUILDING, 38 - 40 TAI PO RD (Tower Block)\\n大埔道38 - 40號 香港華商織造廠總會大廈 (大廈)',\n",
       " '詳細\\nFUNG NING BUILDING, 42 - 44 TAI PO RD (Tower Block)\\n大埔道42 - 44號 (大廈)',\n",
       " '詳細\\nDIAMOND BUILDING, 47 - 49 TAI PO RD (Tower Block)\\n大埔道47 - 49號 (大廈)',\n",
       " '詳細\\nHIP FOOK BUILDING, 63 - 71 TAI PO RD (Tower Block)\\n大埔道63 - 71號 協福大廈 (大廈)',\n",
       " '詳細\\nHOI CHEUNG BUILDING, 72 - 74 TAI PO RD (Tower Block)\\n大埔道72 - 74號 海祥大廈 (大廈)',\n",
       " '詳細\\nWEI SUN BUILDING, 75 TAI PO RD (Tower Block)\\n大埔道75號 威信大廈 (大廈)',\n",
       " '詳細\\nWAH KIU MANSION, 76 - 84 TAI PO RD (Tower Block)\\n大埔道76 - 84號 華僑大廈 (大廈)',\n",
       " '詳細\\n77 TAI PO RD (Tower Block)\\n大埔道77號 (大廈)',\n",
       " '詳細\\nMAN ON BUILDING, 79 - 85A TAI PO RD (Tower Block)\\n大埔道79 - 85A號 民安大廈 (大廈)',\n",
       " '詳細\\nWAH YAN MANSION, 92 - 102 TAI PO RD (Tower Block)\\n大埔道92 - 102號 華仁大廈 (大廈)']"
      ]
     },
     "execution_count": 13,
     "metadata": {},
     "output_type": "execute_result"
    }
   ],
   "source": [
    "string_list"
   ]
  },
  {
   "cell_type": "code",
   "execution_count": 14,
   "metadata": {},
   "outputs": [],
   "source": [
    "# Split each string into a list of values using '\\n' as the separator\n",
    "split_list = [item.split('\\n') for item in string_list]\n",
    "\n",
    "# Create a DataFrame from the split list\n",
    "df_streetName = pd.DataFrame(split_list)\n",
    "\n",
    "# Drop the 1st column with '詳細'\n",
    "df_streetName.drop(columns=df_streetName.columns[0], axis=1, inplace=True)\n",
    "\n",
    "# Rename the column headers\n",
    "df_streetName.columns = ['English Address', 'Chinese Address']\n",
    "\n",
    "# Add new column which is concantenation of Eng and Chi\n",
    "df_streetName['街道地址'] = df_streetName['English Address'] + ' ' + df_streetName['Chinese Address']"
   ]
  },
  {
   "cell_type": "code",
   "execution_count": 15,
   "metadata": {},
   "outputs": [
    {
     "data": {
      "text/html": [
       "<div>\n",
       "<style scoped>\n",
       "    .dataframe tbody tr th:only-of-type {\n",
       "        vertical-align: middle;\n",
       "    }\n",
       "\n",
       "    .dataframe tbody tr th {\n",
       "        vertical-align: top;\n",
       "    }\n",
       "\n",
       "    .dataframe thead th {\n",
       "        text-align: right;\n",
       "    }\n",
       "</style>\n",
       "<table border=\"1\" class=\"dataframe\">\n",
       "  <thead>\n",
       "    <tr style=\"text-align: right;\">\n",
       "      <th></th>\n",
       "      <th>English Address</th>\n",
       "      <th>Chinese Address</th>\n",
       "      <th>街道地址</th>\n",
       "    </tr>\n",
       "  </thead>\n",
       "  <tbody>\n",
       "    <tr>\n",
       "      <th>0</th>\n",
       "      <td>6 - 8 TAI PO RD (Tower Block)</td>\n",
       "      <td>大埔道6 - 8號 (大廈)</td>\n",
       "      <td>6 - 8 TAI PO RD (Tower Block) 大埔道6 - 8號 (大廈)</td>\n",
       "    </tr>\n",
       "    <tr>\n",
       "      <th>1</th>\n",
       "      <td>TAI PO HOUSE, 13 - 15 TAI PO RD (Tower Block)</td>\n",
       "      <td>大埔道13 - 15號 大埔樓 (大廈)</td>\n",
       "      <td>TAI PO HOUSE, 13 - 15 TAI PO RD (Tower Block) ...</td>\n",
       "    </tr>\n",
       "    <tr>\n",
       "      <th>2</th>\n",
       "      <td>WAH TAO BUILDING, 14 - 16 TAI PO RD (Tower Block)</td>\n",
       "      <td>大埔道14 - 16號 華都大廈 (大廈)</td>\n",
       "      <td>WAH TAO BUILDING, 14 - 16 TAI PO RD (Tower Blo...</td>\n",
       "    </tr>\n",
       "    <tr>\n",
       "      <th>3</th>\n",
       "      <td>SAM YING BUILDING, 19 - 23 TAI PO RD (Podium B...</td>\n",
       "      <td>大埔道19 - 23號 三英大廈 (基座平台)</td>\n",
       "      <td>SAM YING BUILDING, 19 - 23 TAI PO RD (Podium B...</td>\n",
       "    </tr>\n",
       "    <tr>\n",
       "      <th>4</th>\n",
       "      <td>SAM YING BUILDING, 19 TAI PO RD (Tower Block)</td>\n",
       "      <td>大埔道19號 三英大廈 (大廈)</td>\n",
       "      <td>SAM YING BUILDING, 19 TAI PO RD (Tower Block) ...</td>\n",
       "    </tr>\n",
       "    <tr>\n",
       "      <th>5</th>\n",
       "      <td>FAIRVIEW GARDEN, 27 TAI PO RD (Tower Block)</td>\n",
       "      <td>大埔道27號 景翠苑 (大廈)</td>\n",
       "      <td>FAIRVIEW GARDEN, 27 TAI PO RD (Tower Block) 大埔...</td>\n",
       "    </tr>\n",
       "    <tr>\n",
       "      <th>6</th>\n",
       "      <td>TAK SING HOUSE, 29 TAI PO RD (Tower Block)</td>\n",
       "      <td>大埔道29號 德勝樓 (大廈)</td>\n",
       "      <td>TAK SING HOUSE, 29 TAI PO RD (Tower Block) 大埔道...</td>\n",
       "    </tr>\n",
       "    <tr>\n",
       "      <th>7</th>\n",
       "      <td>CHI FAI COURT, 31 - 35 TAI PO RD (Tower Block)</td>\n",
       "      <td>大埔道31 - 35號 置輝閣 (大廈)</td>\n",
       "      <td>CHI FAI COURT, 31 - 35 TAI PO RD (Tower Block)...</td>\n",
       "    </tr>\n",
       "    <tr>\n",
       "      <th>8</th>\n",
       "      <td>SHING TO BUILDING, 32 - 36 TAI PO RD (Tower Bl...</td>\n",
       "      <td>大埔道32 - 36號 成都大廈 (大廈)</td>\n",
       "      <td>SHING TO BUILDING, 32 - 36 TAI PO RD (Tower Bl...</td>\n",
       "    </tr>\n",
       "    <tr>\n",
       "      <th>9</th>\n",
       "      <td>37 - 39 TAI PO RD (Tower Block)</td>\n",
       "      <td>大埔道37 - 39號 嘉都大廈 (大廈)</td>\n",
       "      <td>37 - 39 TAI PO RD (Tower Block) 大埔道37 - 39號 嘉都...</td>\n",
       "    </tr>\n",
       "    <tr>\n",
       "      <th>10</th>\n",
       "      <td>HONG KONG CHINESE TEXTILE MILLS ASSOCIATION BU...</td>\n",
       "      <td>大埔道38 - 40號 香港華商織造廠總會大廈 (大廈)</td>\n",
       "      <td>HONG KONG CHINESE TEXTILE MILLS ASSOCIATION BU...</td>\n",
       "    </tr>\n",
       "    <tr>\n",
       "      <th>11</th>\n",
       "      <td>FUNG NING BUILDING, 42 - 44 TAI PO RD (Tower B...</td>\n",
       "      <td>大埔道42 - 44號 (大廈)</td>\n",
       "      <td>FUNG NING BUILDING, 42 - 44 TAI PO RD (Tower B...</td>\n",
       "    </tr>\n",
       "    <tr>\n",
       "      <th>12</th>\n",
       "      <td>DIAMOND BUILDING, 47 - 49 TAI PO RD (Tower Block)</td>\n",
       "      <td>大埔道47 - 49號 (大廈)</td>\n",
       "      <td>DIAMOND BUILDING, 47 - 49 TAI PO RD (Tower Blo...</td>\n",
       "    </tr>\n",
       "    <tr>\n",
       "      <th>13</th>\n",
       "      <td>HIP FOOK BUILDING, 63 - 71 TAI PO RD (Tower Bl...</td>\n",
       "      <td>大埔道63 - 71號 協福大廈 (大廈)</td>\n",
       "      <td>HIP FOOK BUILDING, 63 - 71 TAI PO RD (Tower Bl...</td>\n",
       "    </tr>\n",
       "    <tr>\n",
       "      <th>14</th>\n",
       "      <td>HOI CHEUNG BUILDING, 72 - 74 TAI PO RD (Tower ...</td>\n",
       "      <td>大埔道72 - 74號 海祥大廈 (大廈)</td>\n",
       "      <td>HOI CHEUNG BUILDING, 72 - 74 TAI PO RD (Tower ...</td>\n",
       "    </tr>\n",
       "    <tr>\n",
       "      <th>15</th>\n",
       "      <td>WEI SUN BUILDING, 75 TAI PO RD (Tower Block)</td>\n",
       "      <td>大埔道75號 威信大廈 (大廈)</td>\n",
       "      <td>WEI SUN BUILDING, 75 TAI PO RD (Tower Block) 大...</td>\n",
       "    </tr>\n",
       "    <tr>\n",
       "      <th>16</th>\n",
       "      <td>WAH KIU MANSION, 76 - 84 TAI PO RD (Tower Block)</td>\n",
       "      <td>大埔道76 - 84號 華僑大廈 (大廈)</td>\n",
       "      <td>WAH KIU MANSION, 76 - 84 TAI PO RD (Tower Bloc...</td>\n",
       "    </tr>\n",
       "    <tr>\n",
       "      <th>17</th>\n",
       "      <td>77 TAI PO RD (Tower Block)</td>\n",
       "      <td>大埔道77號 (大廈)</td>\n",
       "      <td>77 TAI PO RD (Tower Block) 大埔道77號 (大廈)</td>\n",
       "    </tr>\n",
       "    <tr>\n",
       "      <th>18</th>\n",
       "      <td>MAN ON BUILDING, 79 - 85A TAI PO RD (Tower Block)</td>\n",
       "      <td>大埔道79 - 85A號 民安大廈 (大廈)</td>\n",
       "      <td>MAN ON BUILDING, 79 - 85A TAI PO RD (Tower Blo...</td>\n",
       "    </tr>\n",
       "    <tr>\n",
       "      <th>19</th>\n",
       "      <td>WAH YAN MANSION, 92 - 102 TAI PO RD (Tower Block)</td>\n",
       "      <td>大埔道92 - 102號 華仁大廈 (大廈)</td>\n",
       "      <td>WAH YAN MANSION, 92 - 102 TAI PO RD (Tower Blo...</td>\n",
       "    </tr>\n",
       "  </tbody>\n",
       "</table>\n",
       "</div>"
      ],
      "text/plain": [
       "                                      English Address   \n",
       "0                       6 - 8 TAI PO RD (Tower Block)  \\\n",
       "1       TAI PO HOUSE, 13 - 15 TAI PO RD (Tower Block)   \n",
       "2   WAH TAO BUILDING, 14 - 16 TAI PO RD (Tower Block)   \n",
       "3   SAM YING BUILDING, 19 - 23 TAI PO RD (Podium B...   \n",
       "4       SAM YING BUILDING, 19 TAI PO RD (Tower Block)   \n",
       "5         FAIRVIEW GARDEN, 27 TAI PO RD (Tower Block)   \n",
       "6          TAK SING HOUSE, 29 TAI PO RD (Tower Block)   \n",
       "7      CHI FAI COURT, 31 - 35 TAI PO RD (Tower Block)   \n",
       "8   SHING TO BUILDING, 32 - 36 TAI PO RD (Tower Bl...   \n",
       "9                     37 - 39 TAI PO RD (Tower Block)   \n",
       "10  HONG KONG CHINESE TEXTILE MILLS ASSOCIATION BU...   \n",
       "11  FUNG NING BUILDING, 42 - 44 TAI PO RD (Tower B...   \n",
       "12  DIAMOND BUILDING, 47 - 49 TAI PO RD (Tower Block)   \n",
       "13  HIP FOOK BUILDING, 63 - 71 TAI PO RD (Tower Bl...   \n",
       "14  HOI CHEUNG BUILDING, 72 - 74 TAI PO RD (Tower ...   \n",
       "15       WEI SUN BUILDING, 75 TAI PO RD (Tower Block)   \n",
       "16   WAH KIU MANSION, 76 - 84 TAI PO RD (Tower Block)   \n",
       "17                         77 TAI PO RD (Tower Block)   \n",
       "18  MAN ON BUILDING, 79 - 85A TAI PO RD (Tower Block)   \n",
       "19  WAH YAN MANSION, 92 - 102 TAI PO RD (Tower Block)   \n",
       "\n",
       "                 Chinese Address   \n",
       "0                 大埔道6 - 8號 (大廈)  \\\n",
       "1           大埔道13 - 15號 大埔樓 (大廈)   \n",
       "2          大埔道14 - 16號 華都大廈 (大廈)   \n",
       "3        大埔道19 - 23號 三英大廈 (基座平台)   \n",
       "4               大埔道19號 三英大廈 (大廈)   \n",
       "5                大埔道27號 景翠苑 (大廈)   \n",
       "6                大埔道29號 德勝樓 (大廈)   \n",
       "7           大埔道31 - 35號 置輝閣 (大廈)   \n",
       "8          大埔道32 - 36號 成都大廈 (大廈)   \n",
       "9          大埔道37 - 39號 嘉都大廈 (大廈)   \n",
       "10  大埔道38 - 40號 香港華商織造廠總會大廈 (大廈)   \n",
       "11              大埔道42 - 44號 (大廈)   \n",
       "12              大埔道47 - 49號 (大廈)   \n",
       "13         大埔道63 - 71號 協福大廈 (大廈)   \n",
       "14         大埔道72 - 74號 海祥大廈 (大廈)   \n",
       "15              大埔道75號 威信大廈 (大廈)   \n",
       "16         大埔道76 - 84號 華僑大廈 (大廈)   \n",
       "17                   大埔道77號 (大廈)   \n",
       "18        大埔道79 - 85A號 民安大廈 (大廈)   \n",
       "19        大埔道92 - 102號 華仁大廈 (大廈)   \n",
       "\n",
       "                                                 街道地址  \n",
       "0        6 - 8 TAI PO RD (Tower Block) 大埔道6 - 8號 (大廈)  \n",
       "1   TAI PO HOUSE, 13 - 15 TAI PO RD (Tower Block) ...  \n",
       "2   WAH TAO BUILDING, 14 - 16 TAI PO RD (Tower Blo...  \n",
       "3   SAM YING BUILDING, 19 - 23 TAI PO RD (Podium B...  \n",
       "4   SAM YING BUILDING, 19 TAI PO RD (Tower Block) ...  \n",
       "5   FAIRVIEW GARDEN, 27 TAI PO RD (Tower Block) 大埔...  \n",
       "6   TAK SING HOUSE, 29 TAI PO RD (Tower Block) 大埔道...  \n",
       "7   CHI FAI COURT, 31 - 35 TAI PO RD (Tower Block)...  \n",
       "8   SHING TO BUILDING, 32 - 36 TAI PO RD (Tower Bl...  \n",
       "9   37 - 39 TAI PO RD (Tower Block) 大埔道37 - 39號 嘉都...  \n",
       "10  HONG KONG CHINESE TEXTILE MILLS ASSOCIATION BU...  \n",
       "11  FUNG NING BUILDING, 42 - 44 TAI PO RD (Tower B...  \n",
       "12  DIAMOND BUILDING, 47 - 49 TAI PO RD (Tower Blo...  \n",
       "13  HIP FOOK BUILDING, 63 - 71 TAI PO RD (Tower Bl...  \n",
       "14  HOI CHEUNG BUILDING, 72 - 74 TAI PO RD (Tower ...  \n",
       "15  WEI SUN BUILDING, 75 TAI PO RD (Tower Block) 大...  \n",
       "16  WAH KIU MANSION, 76 - 84 TAI PO RD (Tower Bloc...  \n",
       "17             77 TAI PO RD (Tower Block) 大埔道77號 (大廈)  \n",
       "18  MAN ON BUILDING, 79 - 85A TAI PO RD (Tower Blo...  \n",
       "19  WAH YAN MANSION, 92 - 102 TAI PO RD (Tower Blo...  "
      ]
     },
     "execution_count": 15,
     "metadata": {},
     "output_type": "execute_result"
    }
   ],
   "source": [
    "df_streetName"
   ]
  },
  {
   "cell_type": "code",
   "execution_count": 16,
   "metadata": {},
   "outputs": [
    {
     "data": {
      "text/plain": [
       "'6 - 8 TAI PO RD (Tower Block)'"
      ]
     },
     "execution_count": 16,
     "metadata": {},
     "output_type": "execute_result"
    }
   ],
   "source": [
    "englishAddress = df_streetName['English Address'][0]\n",
    "englishAddress"
   ]
  },
  {
   "cell_type": "code",
   "execution_count": 32,
   "metadata": {},
   "outputs": [],
   "source": [
    "def clickButtonByCSS(cssString):\n",
    "    # Find the <a> element by its class attribute\n",
    "    # button = driver.find_element(By.CSS_SELECTOR, cssString)\n",
    "    button = WebDriverWait(driver, 10).until(EC.element_to_be_clickable((By.CSS_SELECTOR, cssString)))\n",
    "\n",
    "    # Clicking the button\n",
    "    button.click()"
   ]
  },
  {
   "cell_type": "code",
   "execution_count": 34,
   "metadata": {},
   "outputs": [],
   "source": [
    "def clickButtonByClass(className):\n",
    "    # Find the <a> element by its class attribute\n",
    "    button = WebDriverWait(driver, 10).until(\n",
    "        EC.element_to_be_clickable((By.CLASS_NAME, f\"{className}\"))\n",
    "    )\n",
    "\n",
    "    # Clicking the button\n",
    "    button.click()\n"
   ]
  },
  {
   "cell_type": "code",
   "execution_count": 35,
   "metadata": {},
   "outputs": [],
   "source": [
    "df_target = pd.DataFrame()\n",
    "\n",
    "# Initialize an empty DataFrame with column names\n",
    "columns = [\"街道地址\", \"位置\", \"命令狀態\", \"命令編號\", \"地址\", \"日期\", \"命令類別\", \"屋宇署檔案編號\"]\n",
    "df_target = pd.DataFrame(columns=columns)"
   ]
  },
  {
   "cell_type": "code",
   "execution_count": 36,
   "metadata": {},
   "outputs": [
    {
     "name": "stdout",
     "output_type": "stream",
     "text": [
      "6 - 8 TAI PO RD (Tower Block)\n",
      "TAI PO HOUSE, 13 - 15 TAI PO RD (Tower Block)\n",
      "WAH TAO BUILDING, 14 - 16 TAI PO RD (Tower Block)\n"
     ]
    }
   ],
   "source": [
    "for street in df_streetName['English Address']:\n",
    "    print(street)\n",
    "    clickButtonByCSS(f'a.btn.addressSearch[data-addressen=\"{street}\"]')\n",
    "    try:\n",
    "        clickButtonByID('individualOutstanding-s24')\n",
    "        # clickButtonByID('individualCompiled-s28')\n",
    "    except: \n",
    "        clickButtonByID('individualCompiled-s28')\n",
    "    clickButtonByClass('expandBtn.collapsed')\n",
    "    # Find the table's div element by its ID\n",
    "    table_div = driver.find_element(By.ID, 'individualOutstanding-s24-content')\n",
    "\n",
    "    # Get all the strings within the div element\n",
    "    table_strings = table_div.text.splitlines()\n",
    "\n",
    "    for i in range(len(table_strings)):\n",
    "        if table_strings[i] == '命令編號':\n",
    "            val4 = table_strings[i+1]\n",
    "            val3 = table_strings[i+2]\n",
    "        elif table_strings[i] == '地址':\n",
    "            val5 = table_strings[i+1]\n",
    "        elif table_strings[i] == '通知日期':\n",
    "            val6 = table_strings[i+1]\n",
    "        elif table_strings[i] == '命令類別':\n",
    "            val7 = table_strings[i+1]\n",
    "        elif table_strings[i] == '屋宇署檔案編號':\n",
    "            val8 = table_strings[i+1]\n",
    "\n",
    "    # Append records to the DataFrame using append method\n",
    "    record = {\"街道地址\": df_streetName['English Address'][0], \"位置\": \"個別單位\", \"命令狀態\": f\"{val3}\",\"命令編號\": f\"{val4}\", \"地址\": f\"{val5}\", \"日期\": f\"{val6}\", \"命令類別\": f\"{val7}\", \"屋宇署檔案編號\": f\"{val8}\"}\n",
    "    df_target.loc[len(df_target)] = record\n",
    "\n",
    "    clickButtonByID('backToSearch')\n",
    "    enterTextBoxByID(\"street_name\", \"Tai Po\")\n",
    "    clickButtonByID(\"searchStreetAddress\")"
   ]
  },
  {
   "cell_type": "code",
   "execution_count": 22,
   "metadata": {},
   "outputs": [],
   "source": []
  },
  {
   "cell_type": "code",
   "execution_count": 21,
   "metadata": {},
   "outputs": [
    {
     "data": {
      "text/html": [
       "<div>\n",
       "<style scoped>\n",
       "    .dataframe tbody tr th:only-of-type {\n",
       "        vertical-align: middle;\n",
       "    }\n",
       "\n",
       "    .dataframe tbody tr th {\n",
       "        vertical-align: top;\n",
       "    }\n",
       "\n",
       "    .dataframe thead th {\n",
       "        text-align: right;\n",
       "    }\n",
       "</style>\n",
       "<table border=\"1\" class=\"dataframe\">\n",
       "  <thead>\n",
       "    <tr style=\"text-align: right;\">\n",
       "      <th></th>\n",
       "      <th>街道地址</th>\n",
       "      <th>位置</th>\n",
       "      <th>命令狀態</th>\n",
       "      <th>命令編號</th>\n",
       "      <th>地址</th>\n",
       "      <th>日期</th>\n",
       "      <th>命令類別</th>\n",
       "      <th>屋宇署檔案編號</th>\n",
       "    </tr>\n",
       "  </thead>\n",
       "  <tbody>\n",
       "    <tr>\n",
       "      <th>0</th>\n",
       "      <td>6 - 8 TAI PO RD (Tower Block)</td>\n",
       "      <td>個別單位</td>\n",
       "      <td>未獲遵從</td>\n",
       "      <td>UDR00546/K/21/AEF/TA(5OJ123)</td>\n",
       "      <td>10/F FLAT B 6/8 TAI PO RD</td>\n",
       "      <td>2022年12月30日</td>\n",
       "      <td>第24條命令（只涉及渠務）</td>\n",
       "      <td>EB/4619/70/U04N(SDI-AEF)</td>\n",
       "    </tr>\n",
       "  </tbody>\n",
       "</table>\n",
       "</div>"
      ],
      "text/plain": [
       "                            街道地址    位置  命令狀態                          命令編號   \n",
       "0  6 - 8 TAI PO RD (Tower Block)  個別單位  未獲遵從  UDR00546/K/21/AEF/TA(5OJ123)  \\\n",
       "\n",
       "                          地址           日期           命令類別   \n",
       "0  10/F FLAT B 6/8 TAI PO RD  2022年12月30日  第24條命令（只涉及渠務）  \\\n",
       "\n",
       "                    屋宇署檔案編號  \n",
       "0  EB/4619/70/U04N(SDI-AEF)  "
      ]
     },
     "execution_count": 21,
     "metadata": {},
     "output_type": "execute_result"
    }
   ],
   "source": [
    "df_target"
   ]
  },
  {
   "cell_type": "code",
   "execution_count": 111,
   "metadata": {},
   "outputs": [],
   "source": [
    "clickButtonByCSS(f'a.btn.addressSearch[data-addressen=\"{englishAddress}\"]')"
   ]
  },
  {
   "cell_type": "code",
   "execution_count": 112,
   "metadata": {},
   "outputs": [],
   "source": [
    "# # Find the button element by its CSS selector\n",
    "# button = driver.find_element(By.CSS_SELECTOR, f'a.btn.addressSearch[data-addressen=\"{englishAddress}\"]')\n",
    "\n",
    "# # Click the button\n",
    "# button.click()"
   ]
  },
  {
   "cell_type": "code",
   "execution_count": 97,
   "metadata": {},
   "outputs": [],
   "source": [
    "clickButtonByID('individualOutstanding-s24')"
   ]
  },
  {
   "cell_type": "code",
   "execution_count": 51,
   "metadata": {},
   "outputs": [],
   "source": [
    "# # Find the toggle button element by its ID\n",
    "# toggle_arrow_button = driver.find_element(By.ID, 'individualOutstanding-s24')\n",
    "\n",
    "# # Click the toggle button\n",
    "# toggle_arrow_button.click()"
   ]
  },
  {
   "cell_type": "code",
   "execution_count": 99,
   "metadata": {},
   "outputs": [],
   "source": [
    "clickButtonByClass('expandBtn.collapsed')"
   ]
  },
  {
   "cell_type": "code",
   "execution_count": 52,
   "metadata": {},
   "outputs": [],
   "source": [
    "# # Find the <a> element by its class attribute\n",
    "# toggle_plus_button = driver.find_element(By.CLASS_NAME, 'expandBtn.collapsed')\n",
    "\n",
    "# # Perform actions on the found element (e.g., click the link)\n",
    "# toggle_plus_button.click()"
   ]
  },
  {
   "cell_type": "code",
   "execution_count": 100,
   "metadata": {},
   "outputs": [],
   "source": [
    "# Find the table's div element by its ID\n",
    "table_div = driver.find_element(By.ID, 'individualOutstanding-s24-content')\n",
    "\n",
    "# Get all the strings within the div element\n",
    "table_strings = table_div.text.splitlines()\n",
    "\n",
    "# # Print the strings\n",
    "# for string in table_strings:\n",
    "#     print(string)"
   ]
  },
  {
   "cell_type": "code",
   "execution_count": 101,
   "metadata": {},
   "outputs": [],
   "source": [
    "# table_div.text"
   ]
  },
  {
   "cell_type": "code",
   "execution_count": 102,
   "metadata": {},
   "outputs": [],
   "source": [
    "df_target = pd.DataFrame()"
   ]
  },
  {
   "cell_type": "code",
   "execution_count": 103,
   "metadata": {},
   "outputs": [],
   "source": [
    "# Initialize an empty DataFrame with column names\n",
    "columns = [\"街道地址\", \"位置\", \"命令狀態\", \"命令編號\", \"地址\", \"日期\", \"命令類別\", \"屋宇署檔案編號\"]\n",
    "df_target = pd.DataFrame(columns=columns)"
   ]
  },
  {
   "cell_type": "code",
   "execution_count": 104,
   "metadata": {},
   "outputs": [
    {
     "data": {
      "text/plain": [
       "['命令編號',\n",
       " 'UDR00546/K/21/AEF/TA(5OJ123)',\n",
       " '未獲遵從',\n",
       " '地址',\n",
       " '10/F FLAT B 6/8 TAI PO RD',\n",
       " '通知日期',\n",
       " '2022年12月30日',\n",
       " '命令類別',\n",
       " '第24條命令（只涉及渠務）',\n",
       " '屋宇署檔案編號',\n",
       " 'EB/4619/70/U04N(SDI-AEF)']"
      ]
     },
     "execution_count": 104,
     "metadata": {},
     "output_type": "execute_result"
    }
   ],
   "source": [
    "table_strings"
   ]
  },
  {
   "cell_type": "code",
   "execution_count": 105,
   "metadata": {},
   "outputs": [],
   "source": [
    "for i in range(len(table_strings)):\n",
    "    if table_strings[i] == '命令編號':\n",
    "        val4 = table_strings[i+1]\n",
    "        val3 = table_strings[i+2]\n",
    "    elif table_strings[i] == '地址':\n",
    "        val5 = table_strings[i+1]\n",
    "    elif table_strings[i] == '通知日期':\n",
    "        val6 = table_strings[i+1]\n",
    "    elif table_strings[i] == '命令類別':\n",
    "        val7 = table_strings[i+1]\n",
    "    elif table_strings[i] == '屋宇署檔案編號':\n",
    "        val8 = table_strings[i+1]"
   ]
  },
  {
   "cell_type": "code",
   "execution_count": 106,
   "metadata": {},
   "outputs": [],
   "source": [
    "# Append records to the DataFrame using append method\n",
    "record = {\"街道地址\": df['English Address'][0], \"位置\": \"個別單位\", \"命令狀態\": f\"{val3}\",\"命令編號\": f\"{val4}\", \"地址\": f\"{val5}\", \"日期\": f\"{val6}\", \"命令類別\": f\"{val7}\", \"屋宇署檔案編號\": f\"{val8}\"}\n",
    "df_target.loc[len(df_target)] = record"
   ]
  },
  {
   "cell_type": "code",
   "execution_count": 107,
   "metadata": {},
   "outputs": [
    {
     "data": {
      "text/html": [
       "<div>\n",
       "<style scoped>\n",
       "    .dataframe tbody tr th:only-of-type {\n",
       "        vertical-align: middle;\n",
       "    }\n",
       "\n",
       "    .dataframe tbody tr th {\n",
       "        vertical-align: top;\n",
       "    }\n",
       "\n",
       "    .dataframe thead th {\n",
       "        text-align: right;\n",
       "    }\n",
       "</style>\n",
       "<table border=\"1\" class=\"dataframe\">\n",
       "  <thead>\n",
       "    <tr style=\"text-align: right;\">\n",
       "      <th></th>\n",
       "      <th>街道地址</th>\n",
       "      <th>位置</th>\n",
       "      <th>命令狀態</th>\n",
       "      <th>命令編號</th>\n",
       "      <th>地址</th>\n",
       "      <th>日期</th>\n",
       "      <th>命令類別</th>\n",
       "      <th>屋宇署檔案編號</th>\n",
       "    </tr>\n",
       "  </thead>\n",
       "  <tbody>\n",
       "    <tr>\n",
       "      <th>0</th>\n",
       "      <td>6 - 8 TAI PO RD (Tower Block)</td>\n",
       "      <td>個別單位</td>\n",
       "      <td>未獲遵從</td>\n",
       "      <td>UDR00546/K/21/AEF/TA(5OJ123)</td>\n",
       "      <td>10/F FLAT B 6/8 TAI PO RD</td>\n",
       "      <td>2022年12月30日</td>\n",
       "      <td>第24條命令（只涉及渠務）</td>\n",
       "      <td>EB/4619/70/U04N(SDI-AEF)</td>\n",
       "    </tr>\n",
       "  </tbody>\n",
       "</table>\n",
       "</div>"
      ],
      "text/plain": [
       "                            街道地址    位置  命令狀態                          命令編號   \n",
       "0  6 - 8 TAI PO RD (Tower Block)  個別單位  未獲遵從  UDR00546/K/21/AEF/TA(5OJ123)  \\\n",
       "\n",
       "                          地址           日期           命令類別   \n",
       "0  10/F FLAT B 6/8 TAI PO RD  2022年12月30日  第24條命令（只涉及渠務）  \\\n",
       "\n",
       "                    屋宇署檔案編號  \n",
       "0  EB/4619/70/U04N(SDI-AEF)  "
      ]
     },
     "execution_count": 107,
     "metadata": {},
     "output_type": "execute_result"
    }
   ],
   "source": [
    "df_target"
   ]
  },
  {
   "cell_type": "code",
   "execution_count": null,
   "metadata": {},
   "outputs": [],
   "source": []
  }
 ],
 "metadata": {
  "kernelspec": {
   "display_name": "selenium",
   "language": "python",
   "name": "python3"
  },
  "language_info": {
   "codemirror_mode": {
    "name": "ipython",
    "version": 3
   },
   "file_extension": ".py",
   "mimetype": "text/x-python",
   "name": "python",
   "nbconvert_exporter": "python",
   "pygments_lexer": "ipython3",
   "version": "3.9.16"
  },
  "orig_nbformat": 4
 },
 "nbformat": 4,
 "nbformat_minor": 2
}
